{
 "cells": [
  {
   "cell_type": "code",
   "execution_count": null,
   "id": "9b93b228",
   "metadata": {},
   "outputs": [],
   "source": [
    "#Hello world"
   ]
  }
 ],
 "metadata": {
  "kernelspec": {
   "display_name": "Python 3",
   "language": "python",
   "name": "python3"
  },
  "language_info": {
   "name": "python",
   "version": "3.13.0"
  }
 },
 "nbformat": 4,
 "nbformat_minor": 5
}
